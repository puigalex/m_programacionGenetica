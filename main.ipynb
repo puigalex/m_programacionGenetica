{
 "cells": [
  {
   "cell_type": "code",
   "execution_count": 12,
   "metadata": {},
   "outputs": [],
   "source": [
    "a = generate_tree(5)"
   ]
  },
  {
   "cell_type": "code",
   "execution_count": 13,
   "metadata": {},
   "outputs": [
    {
     "data": {
      "text/plain": [
       "False"
      ]
     },
     "execution_count": 13,
     "metadata": {},
     "output_type": "execute_result"
    }
   ],
   "source": [
    "a"
   ]
  },
  {
   "cell_type": "code",
   "execution_count": 14,
   "metadata": {},
   "outputs": [
    {
     "name": "stdout",
     "output_type": "stream",
     "text": [
      "OR\n",
      "--NOT\n",
      "----OR\n",
      "------B\n",
      "------B\n",
      "--NOT\n",
      "----A\n",
      "4\n"
     ]
    }
   ],
   "source": [
    "import random\n",
    "\n",
    "# Define node types\n",
    "NODE_TYPES = ['AND', 'OR', 'NOT', 'A', 'B', 'C']\n",
    "\n",
    "# Define maximum depth of the tree\n",
    "MAX_DEPTH = 3\n",
    "\n",
    "class Node:\n",
    "    def __init__(self, value):\n",
    "        self.value = value\n",
    "        self.children = []\n",
    "\n",
    "def and_func(x, y):\n",
    "    return x and y\n",
    "\n",
    "def or_func(x, y):\n",
    "    return x or y\n",
    "\n",
    "def not_func(x):\n",
    "    return not x\n",
    "\n",
    "def nor_func(x, y):\n",
    "    return not (x or y)\n",
    "\n",
    "def create_tree(depth):\n",
    "    if depth <= 0 or random.random() < 0.1:\n",
    "        # Terminal node, return either 0 or 1 randomly\n",
    "        return Node(random.choice(['A', 'B', 'C']))\n",
    "    else:\n",
    "        # Non-terminal node, choose a function randomly\n",
    "        node_type = random.choice(['AND', 'OR', 'NOT'])\n",
    "        node = Node(node_type)\n",
    "        # Recursively create children nodes\n",
    "        for _ in range(2 if node_type in ['AND', 'OR'] else 1):\n",
    "            node.children.append(create_tree(depth - 1))\n",
    "        return node\n",
    "\n",
    "def print_tree(node, indent=0):\n",
    "    if node is not None:\n",
    "        print('-' * indent + node.value)\n",
    "        for child in node.children:\n",
    "            print_tree(child, indent + 2)\n",
    "\n",
    "def calcular_profundidades(nodo):\n",
    "    if nodo.children == []:\n",
    "        return 1\n",
    "    else:\n",
    "        return 1 + max([calcular_profundidades(child) for child in nodo.children])\n",
    "\n",
    "def evaluar_arbol(arbol, a, b, c):\n",
    "    # funcion recursiva que evalua el arbol, solo evalua para 1 renglon de la tabla de verdad\n",
    "    if arbol.value == 'A':\n",
    "        return a\n",
    "    elif arbol.value == 'B':\n",
    "        return b\n",
    "    elif arbol.value == 'C':\n",
    "        return c\n",
    "    elif arbol.value == 'AND':\n",
    "        return and_func(evaluar_arbol(arbol.children[0], a, b, c), evaluar_arbol(arbol.children[1], a, b, c))\n",
    "    elif arbol.value == 'OR':\n",
    "        return or_func(evaluar_arbol(arbol.children[0], a, b, c), evaluar_arbol(arbol.children[1], a, b, c))\n",
    "    elif arbol.value == 'NOT':\n",
    "        return not_func(evaluar_arbol(arbol.children[0], a, b, c))\n",
    "    else:\n",
    "        raise ValueError('Invalid node value')\n",
    "    \n",
    "def evaluar_arbol_completo(arbol):\n",
    "    # funcion que evalua el arbol para todas las combinaciones de la tabla de verdad\n",
    "    for a in [True, False]:\n",
    "        for b in [True, False]:\n",
    "            for c in [True, False]:\n",
    "                print(f'{a} {b} {c} -> {evaluar_arbol(arbol, a, b, c)}')   \n",
    "\n",
    "def mutacion(arbol, prob=0.1):\n",
    "    # funcion que muta un arbol\n",
    "    # crea un arbol nuevo\n",
    "    # recorre el arbol original y muta con probabilidad 0.1\n",
    "    # Mutacion sustituye el nodo por el arbol creado\n",
    "    \n",
    "    if random.random() < prob:\n",
    "        prob = 0\n",
    "        return create_tree(MAX_DEPTH)\n",
    "    else:\n",
    "        nuevo_arbol = Node(arbol.value)\n",
    "        for child in arbol.children:\n",
    "            nuevo_arbol.children.append(mutacion(child))\n",
    "        return nuevo_arbol\n",
    "\n",
    "def cruzamiento(arbol1, arbol2, prob = 0.8):\n",
    "    # Identifica los puntos de cruza en cada padre\n",
    "    # intercambiar los nodos entre los padres\n",
    "    # retorna 2 hijos\n",
    "    if random.random() > prob:\n",
    "        return arbol2, arbol1\n",
    "    else:\n",
    "        nodos_a1 = num_nodos(arbol1)\n",
    "        nodos_a2 = num_nodos(arbol2)\n",
    "        punto_cruza1 = random.randint(1, nodos_a1)\n",
    "        punto_cruza2 = random.randint(1, nodos_a2)\n",
    "        hijo1 = cruzar(arbol1, arbol2, punto_cruza1, punto_cruza2)\n",
    "        hijo2 = cruzar(arbol2, arbol1, punto_cruza2, punto_cruza1)\n",
    "        return hijo1, hijo2\n",
    "\n",
    "def cruzar(arbol1, arbol2, punto_cruza1, punto_cruza2):\n",
    "    if arbol1.children == []:\n",
    "        \n",
    "        \n",
    "        \n",
    "\n",
    "def num_nodos(arbol):\n",
    "    if arbol.children == []:\n",
    "        return 1\n",
    "    else:\n",
    "        return 1 + sum([num_nodos(child) for child in arbol.children])\n",
    "    \n",
    "\n",
    "\n",
    "\n",
    "# Create a tree with maximum depth of 3\n",
    "individual = create_tree(3)\n",
    "print_tree(individual)\n",
    "print(calcular_profundidades(individual))\n"
   ]
  },
  {
   "cell_type": "code",
   "execution_count": 15,
   "metadata": {},
   "outputs": [],
   "source": [
    "individual = create_tree(3)\n",
    "individual2 = create_tree(3)"
   ]
  },
  {
   "cell_type": "code",
   "execution_count": 16,
   "metadata": {},
   "outputs": [
    {
     "ename": "IndexError",
     "evalue": "list index out of range",
     "output_type": "error",
     "traceback": [
      "\u001b[0;31m---------------------------------------------------------------------------\u001b[0m",
      "\u001b[0;31mIndexError\u001b[0m                                Traceback (most recent call last)",
      "Cell \u001b[0;32mIn[16], line 1\u001b[0m\n\u001b[0;32m----> 1\u001b[0m hijo1, hijo2 \u001b[38;5;241m=\u001b[39m \u001b[43mcruzamiento\u001b[49m\u001b[43m(\u001b[49m\u001b[43mindividual\u001b[49m\u001b[43m,\u001b[49m\u001b[43m \u001b[49m\u001b[43mindividual2\u001b[49m\u001b[43m)\u001b[49m\n\u001b[1;32m      2\u001b[0m \u001b[38;5;66;03m# hijo2 = cruzamiento(individual2, individual)\u001b[39;00m\n",
      "Cell \u001b[0;32mIn[14], line 101\u001b[0m, in \u001b[0;36mcruzamiento\u001b[0;34m(arbol1, arbol2, prob)\u001b[0m\n\u001b[1;32m     99\u001b[0m punto_cruza1 \u001b[38;5;241m=\u001b[39m random\u001b[38;5;241m.\u001b[39mrandint(\u001b[38;5;241m1\u001b[39m, nodos_a1)\n\u001b[1;32m    100\u001b[0m punto_cruza2 \u001b[38;5;241m=\u001b[39m random\u001b[38;5;241m.\u001b[39mrandint(\u001b[38;5;241m1\u001b[39m, nodos_a2)\n\u001b[0;32m--> 101\u001b[0m hijo1 \u001b[38;5;241m=\u001b[39m \u001b[43mcruzar\u001b[49m\u001b[43m(\u001b[49m\u001b[43marbol1\u001b[49m\u001b[43m,\u001b[49m\u001b[43m \u001b[49m\u001b[43marbol2\u001b[49m\u001b[43m,\u001b[49m\u001b[43m \u001b[49m\u001b[43mpunto_cruza1\u001b[49m\u001b[43m,\u001b[49m\u001b[43m \u001b[49m\u001b[43mpunto_cruza2\u001b[49m\u001b[43m)\u001b[49m\n\u001b[1;32m    102\u001b[0m hijo2 \u001b[38;5;241m=\u001b[39m cruzar(arbol2, arbol1, punto_cruza2, punto_cruza1)\n\u001b[1;32m    103\u001b[0m \u001b[38;5;28;01mreturn\u001b[39;00m hijo1, hijo2\n",
      "Cell \u001b[0;32mIn[14], line 112\u001b[0m, in \u001b[0;36mcruzar\u001b[0;34m(arbol1, arbol2, punto_cruza1, punto_cruza2)\u001b[0m\n\u001b[1;32m    110\u001b[0m \u001b[38;5;28;01mif\u001b[39;00m punto_cruza1 \u001b[38;5;241m>\u001b[39m \u001b[38;5;241m1\u001b[39m:\n\u001b[1;32m    111\u001b[0m     \u001b[38;5;28;01mfor\u001b[39;00m i \u001b[38;5;129;01min\u001b[39;00m \u001b[38;5;28mrange\u001b[39m(punto_cruza1\u001b[38;5;241m-\u001b[39m\u001b[38;5;241m1\u001b[39m):\n\u001b[0;32m--> 112\u001b[0m         nuevo_arbol\u001b[38;5;241m.\u001b[39mchildren\u001b[38;5;241m.\u001b[39mappend(\u001b[43mcruzar\u001b[49m\u001b[43m(\u001b[49m\u001b[43marbol1\u001b[49m\u001b[38;5;241;43m.\u001b[39;49m\u001b[43mchildren\u001b[49m\u001b[43m[\u001b[49m\u001b[43mi\u001b[49m\u001b[43m]\u001b[49m\u001b[43m,\u001b[49m\u001b[43m \u001b[49m\u001b[43marbol2\u001b[49m\u001b[43m,\u001b[49m\u001b[43m \u001b[49m\u001b[43mpunto_cruza1\u001b[49m\u001b[38;5;241;43m-\u001b[39;49m\u001b[38;5;241;43m1\u001b[39;49m\u001b[43m,\u001b[49m\u001b[43m \u001b[49m\u001b[43mpunto_cruza2\u001b[49m\u001b[43m)\u001b[49m)\n\u001b[1;32m    113\u001b[0m nuevo_arbol\u001b[38;5;241m.\u001b[39mchildren\u001b[38;5;241m.\u001b[39mappend(cruzar(arbol1\u001b[38;5;241m.\u001b[39mchildren[punto_cruza1\u001b[38;5;241m-\u001b[39m\u001b[38;5;241m1\u001b[39m], arbol2\u001b[38;5;241m.\u001b[39mchildren[punto_cruza2\u001b[38;5;241m-\u001b[39m\u001b[38;5;241m1\u001b[39m], punto_cruza1\u001b[38;5;241m-\u001b[39m\u001b[38;5;241m1\u001b[39m, punto_cruza2\u001b[38;5;241m-\u001b[39m\u001b[38;5;241m1\u001b[39m))\n\u001b[1;32m    114\u001b[0m \u001b[38;5;28;01mfor\u001b[39;00m i \u001b[38;5;129;01min\u001b[39;00m \u001b[38;5;28mrange\u001b[39m(punto_cruza1, \u001b[38;5;28mlen\u001b[39m(arbol1\u001b[38;5;241m.\u001b[39mchildren)):\n",
      "Cell \u001b[0;32mIn[14], line 112\u001b[0m, in \u001b[0;36mcruzar\u001b[0;34m(arbol1, arbol2, punto_cruza1, punto_cruza2)\u001b[0m\n\u001b[1;32m    110\u001b[0m \u001b[38;5;28;01mif\u001b[39;00m punto_cruza1 \u001b[38;5;241m>\u001b[39m \u001b[38;5;241m1\u001b[39m:\n\u001b[1;32m    111\u001b[0m     \u001b[38;5;28;01mfor\u001b[39;00m i \u001b[38;5;129;01min\u001b[39;00m \u001b[38;5;28mrange\u001b[39m(punto_cruza1\u001b[38;5;241m-\u001b[39m\u001b[38;5;241m1\u001b[39m):\n\u001b[0;32m--> 112\u001b[0m         nuevo_arbol\u001b[38;5;241m.\u001b[39mchildren\u001b[38;5;241m.\u001b[39mappend(cruzar(\u001b[43marbol1\u001b[49m\u001b[38;5;241;43m.\u001b[39;49m\u001b[43mchildren\u001b[49m\u001b[43m[\u001b[49m\u001b[43mi\u001b[49m\u001b[43m]\u001b[49m, arbol2, punto_cruza1\u001b[38;5;241m-\u001b[39m\u001b[38;5;241m1\u001b[39m, punto_cruza2))\n\u001b[1;32m    113\u001b[0m nuevo_arbol\u001b[38;5;241m.\u001b[39mchildren\u001b[38;5;241m.\u001b[39mappend(cruzar(arbol1\u001b[38;5;241m.\u001b[39mchildren[punto_cruza1\u001b[38;5;241m-\u001b[39m\u001b[38;5;241m1\u001b[39m], arbol2\u001b[38;5;241m.\u001b[39mchildren[punto_cruza2\u001b[38;5;241m-\u001b[39m\u001b[38;5;241m1\u001b[39m], punto_cruza1\u001b[38;5;241m-\u001b[39m\u001b[38;5;241m1\u001b[39m, punto_cruza2\u001b[38;5;241m-\u001b[39m\u001b[38;5;241m1\u001b[39m))\n\u001b[1;32m    114\u001b[0m \u001b[38;5;28;01mfor\u001b[39;00m i \u001b[38;5;129;01min\u001b[39;00m \u001b[38;5;28mrange\u001b[39m(punto_cruza1, \u001b[38;5;28mlen\u001b[39m(arbol1\u001b[38;5;241m.\u001b[39mchildren)):\n",
      "\u001b[0;31mIndexError\u001b[0m: list index out of range"
     ]
    }
   ],
   "source": [
    "hijo1, hijo2 = cruzamiento(individual, individual2)\n",
    "# hijo2 = cruzamiento(individual2, individual)"
   ]
  },
  {
   "cell_type": "code",
   "execution_count": 5,
   "metadata": {},
   "outputs": [
    {
     "name": "stdout",
     "output_type": "stream",
     "text": [
      "AND\n",
      "--NOT\n",
      "----AND\n",
      "------C\n",
      "------C\n",
      "--AND\n",
      "----NOT\n",
      "------C\n",
      "----NOT\n",
      "------C\n",
      "Si padre: \n",
      "\n",
      "OR\n",
      "--AND\n",
      "----NOT\n",
      "------B\n",
      "----NOT\n",
      "------C\n",
      "--NOT\n",
      "----OR\n",
      "------C\n",
      "------C\n"
     ]
    }
   ],
   "source": [
    "print_tree(individual)\n",
    "print(\"Si padre: \\n\")\n",
    "print_tree(individual2)"
   ]
  },
  {
   "cell_type": "code",
   "execution_count": 7,
   "metadata": {},
   "outputs": [
    {
     "name": "stdout",
     "output_type": "stream",
     "text": [
      "AND\n",
      "--AND\n",
      "----NOT\n",
      "------B\n",
      "----NOT\n",
      "------C\n",
      "--NOT\n",
      "----OR\n",
      "------C\n",
      "------C\n",
      "Si padre: \n",
      "\n",
      "OR\n",
      "--AND\n",
      "----AND\n",
      "------C\n",
      "------C\n",
      "--NOT\n",
      "----OR\n",
      "------C\n"
     ]
    }
   ],
   "source": [
    "print_tree(hijo1)\n",
    "print(\"Si padre: \\n\")\n",
    "print_tree(hijo2)"
   ]
  },
  {
   "cell_type": "code",
   "execution_count": 9,
   "metadata": {},
   "outputs": [
    {
     "name": "stdout",
     "output_type": "stream",
     "text": [
      "OR\n",
      "--NOT\n",
      "----NOT\n",
      "------A\n",
      "--AND\n",
      "----C\n",
      "----NOT\n",
      "------C\n"
     ]
    }
   ],
   "source": [
    "print_tree(individual)"
   ]
  },
  {
   "cell_type": "code",
   "execution_count": 10,
   "metadata": {},
   "outputs": [
    {
     "data": {
      "text/plain": [
       "8"
      ]
     },
     "execution_count": 10,
     "metadata": {},
     "output_type": "execute_result"
    }
   ],
   "source": [
    "num_nodos(individual)"
   ]
  },
  {
   "cell_type": "code",
   "execution_count": null,
   "metadata": {},
   "outputs": [],
   "source": []
  }
 ],
 "metadata": {
  "kernelspec": {
   "display_name": "m_evolutivo",
   "language": "python",
   "name": "python3"
  },
  "language_info": {
   "codemirror_mode": {
    "name": "ipython",
    "version": 3
   },
   "file_extension": ".py",
   "mimetype": "text/x-python",
   "name": "python",
   "nbconvert_exporter": "python",
   "pygments_lexer": "ipython3",
   "version": "3.12.2"
  }
 },
 "nbformat": 4,
 "nbformat_minor": 2
}
