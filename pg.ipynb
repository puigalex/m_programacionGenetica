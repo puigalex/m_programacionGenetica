{
 "cells": [
  {
   "cell_type": "code",
   "execution_count": 1,
   "metadata": {},
   "outputs": [],
   "source": [
    "import random\n",
    "\n",
    "# Definir el conjunto de funciones\n",
    "def AND(x, y):\n",
    "    return x and y\n",
    "\n",
    "def OR(x, y):\n",
    "    return x or y\n",
    "\n",
    "def NOT(x):\n",
    "    return not x\n",
    "\n",
    "def NOR(x, y):\n",
    "    return not (x or y)\n",
    "\n",
    "# Definir los nodos terminales\n",
    "nodos_terminales = ['A', 'B', 'C']\n",
    "\n",
    "# Definir la profundidad máxima de las expresiones\n",
    "profundidad_maxima = 4\n",
    "MAX = 4\n",
    "\n",
    "# Generar un individuo aleatorio\n",
    "def generar_individuo(profundidad):\n",
    "    if profundidad == 1:\n",
    "        return random.choice(nodos_terminales)\n",
    "    else:\n",
    "        funcion = random.choice([AND, OR, NOT])\n",
    "        if funcion == NOT:\n",
    "            return [funcion.__name__, generar_individuo(profundidad - 1)]\n",
    "        else:\n",
    "            return [funcion.__name__, generar_individuo(profundidad - 1), generar_individuo(profundidad - 1)]\n",
    "\n",
    "# Evaluar un individuo\n",
    "def evaluar_individuo(individuo, entradas):\n",
    "    if isinstance(individuo, str):\n",
    "        return entradas[individuo]\n",
    "    else:\n",
    "        nombre_funcion = individuo[0]\n",
    "        if nombre_funcion == 'AND':\n",
    "            return AND(evaluar_individuo(individuo[1], entradas), evaluar_individuo(individuo[2], entradas))\n",
    "        elif nombre_funcion == 'OR':\n",
    "            return OR(evaluar_individuo(individuo[1], entradas), evaluar_individuo(individuo[2], entradas))\n",
    "        elif nombre_funcion == 'NOT':\n",
    "            return NOT(evaluar_individuo(individuo[1], entradas))\n",
    "        \n",
    "def mutacion(individuo):\n",
    "    sub = individuo.copy()\n",
    "    indice_corte = obtener_indices(sub, MAX)\n",
    "    max_subarbol = MAX - len(indice_corte)\n",
    "    subarbol = generar_individuo(profundidad_maxima, max_subarbol)\n",
    "    nuevo_arbol = insertar_subarbol(individuo, indice_corte, subarbol)\n",
    "    return nuevo_arbol\n",
    "\n",
    "\n",
    "def obtener_indices(nested_list, profundidad_maxima, probabilidad_mutacion=0.1):\n",
    "    '''\n",
    "    Funcion que regresa los indices del bloque que se modificará en un individuo\n",
    "    '''\n",
    "    indices = []\n",
    "    for i in range(profundidad_maxima):\n",
    "        if isinstance(nested_list, list):  \n",
    "            indices.append(random.randint(0, len(nested_list) - 1))\n",
    "            nested_list = nested_list[indices[i]]\n",
    "        else:\n",
    "            break\n",
    "    return indices[:random.randint(1, len(indices))]\n",
    "\n",
    "def insertar_subarbol(arbol, indices, subarbol):\n",
    "    nuevo_arbol = arbol.copy()\n",
    "    for i in range(len(indices)):\n",
    "        if indices[i] == 0:\n",
    "            break\n",
    "\n",
    "    print(\"i\", i)\n",
    "    if i == 0:\n",
    "        nuevo_arbol = subarbol\n",
    "    elif i == 1:\n",
    "        nuevo_arbol[indices[0]] = subarbol\n",
    "    elif i == 2:\n",
    "        nuevo_arbol[indices[0]][indices[1]] = subarbol\n",
    "    elif i == 3:       \n",
    "        nuevo_arbol[indices[0]][indices[1]][indices[2]] = subarbol\n",
    "    elif i == 4:\n",
    "        nuevo_arbol[indices[0]][indices[1]][indices[2]][indices[3]] = subarbol\n",
    "    elif i == 5:\n",
    "        nuevo_arbol[indices[0]][indices[1]][indices[2]][indices[3]][indices[4]] = subarbol\n",
    "    elif i == 6:\n",
    "        nuevo_arbol[indices[0]][indices[1]][indices[2]][indices[3]][indices[4]][indices[5]] = subarbol\n",
    "    elif i == 7:\n",
    "        nuevo_arbol[indices[0]][indices[1]][indices[2]][indices[3]][indices[4]][indices[5]][indices[6]] = subarbol\n",
    "    elif i == 8:\n",
    "        nuevo_arbol[indices[0]][indices[1]][indices[2]][indices[3]][indices[4]][indices[5]][indices[6]][indices[7]] = subarbol\n",
    "    elif i == 9:\n",
    "        nuevo_arbol[indices[0]][indices[1]][indices[2]][indices[3]][indices[4]][indices[5]][indices[6]][indices[7]][indices[8]] = subarbol\n",
    "    elif i == 10:\n",
    "        nuevo_arbol[indices[0]][indices[1]][indices[2]][indices[3]][indices[4]][indices[5]][indices[6]][indices[7]][indices[8]][indices[9]] = subarbol\n",
    "    return nuevo_arbol\n",
    "\n",
    "# def mutar_individuo(individuo):\n",
    "#     nivel_mutacion = random.randint(1, profundidad_maxima - 1)\n",
    "#     print(f\"Nivel de mutación: {nivel_mutacion}\")\n",
    "#     subarbol = generar_individuo(profundidad_maxima-nivel_mutacion)\n",
    "#     indices = []\n",
    "#     i = 0\n",
    "#     while i < nivel_mutacion:\n",
    "#         rama = random.randint(0, len(individuo_recorrido[i]) - 1)    \n",
    "#         indices.append(rama)\n",
    "#         i += 1\n",
    "    \n",
    "#     indice_sustitir = index_multi_dimensional_list(individuo, indices)\n",
    "#     print(f\"Indice a sustituir: {indice_sustitir}\")\n",
    "#     return individuo\n",
    "\n",
    "# def index_multi_dimensional_list(data_list, indices):\n",
    "#     if not indices:\n",
    "#         return data_list\n",
    "#     else:\n",
    "#         index = indices[0]\n",
    "#         if index < len(data_list):\n",
    "#             return index_multi_dimensional_list(data_list[index], indices[1:])\n",
    "#         else:\n",
    "#             raise IndexError(\"Index out of range\")\n",
    "\n",
    "\n",
    "# Probar el algoritmo de programación genética\n",
    "# individuo = generar_individuo(profundidad_maxima)\n",
    "# individuo_mutado = mutar_individuo(individuo)\n",
    "# print(f\"Individuo generado: {individuo}\")\n",
    "# print(f\"Individuo mutado:   {individuo_mutado}\")\n",
    "\n",
    "# entradas = {'A': True, 'B': False, 'C': True}\n",
    "# resultado = evaluar_individuo(individuo_mutado, entradas)\n",
    "# print(f\"Resultado evaluado: {resultado}\")\n"
   ]
  },
  {
   "cell_type": "code",
   "execution_count": 3,
   "metadata": {},
   "outputs": [
    {
     "name": "stdout",
     "output_type": "stream",
     "text": [
      "[0]\n",
      "arbol original ['NOT', ['NOT', 'B']]\n",
      "subarbol ['AND', ['NOT', 'C'], ['NOT', 'B']]\n",
      "entro\n",
      "arbol mutado ['AND', ['NOT', 'C'], ['NOT', 'B'], ['NOT', 'B']]\n",
      "False\n"
     ]
    }
   ],
   "source": [
    "def obtener_indices(nested_list, profundidad_maxima, probabilidad_mutacion=0.1):\n",
    "    '''\n",
    "    Funcion que regresa los indices del bloque que se modificará en un individuo\n",
    "    '''\n",
    "    indices = []\n",
    "    for i in range(profundidad_maxima):\n",
    "        if isinstance(nested_list, list):  \n",
    "            indices.append(random.randint(0, len(nested_list) - 1))\n",
    "            nested_list = nested_list[indices[i]]\n",
    "        else:\n",
    "            break\n",
    "    return indices[:random.randint(1, len(indices))]\n",
    "\n",
    "def insertar_subarbol(arbol, indices, subarbol):\n",
    "    nuevo_arbol = arbol.copy()\n",
    "    for i in range(len(indices)):\n",
    "        if indices[i] == 0:\n",
    "            break\n",
    "\n",
    "    print(\"i\", i)\n",
    "    if i == 0:\n",
    "        nuevo_arbol = subarbol\n",
    "    elif i == 1:\n",
    "        nuevo_arbol[indices[0]] = subarbol\n",
    "    elif i == 2:\n",
    "        nuevo_arbol[indices[0]][indices[1]] = subarbol\n",
    "    elif i == 3:       \n",
    "        nuevo_arbol[indices[0]][indices[1]][indices[2]] = subarbol\n",
    "    elif i == 4:\n",
    "        nuevo_arbol[indices[0]][indices[1]][indices[2]][indices[3]] = subarbol\n",
    "    elif i == 5:\n",
    "        nuevo_arbol[indices[0]][indices[1]][indices[2]][indices[3]][indices[4]] = subarbol\n",
    "    elif i == 6:\n",
    "        nuevo_arbol[indices[0]][indices[1]][indices[2]][indices[3]][indices[4]][indices[5]] = subarbol\n",
    "    elif i == 7:\n",
    "        nuevo_arbol[indices[0]][indices[1]][indices[2]][indices[3]][indices[4]][indices[5]][indices[6]] = subarbol\n",
    "    elif i == 8:\n",
    "        nuevo_arbol[indices[0]][indices[1]][indices[2]][indices[3]][indices[4]][indices[5]][indices[6]][indices[7]] = subarbol\n",
    "    elif i == 9:\n",
    "        nuevo_arbol[indices[0]][indices[1]][indices[2]][indices[3]][indices[4]][indices[5]][indices[6]][indices[7]][indices[8]] = subarbol\n",
    "    elif i == 10:\n",
    "        nuevo_arbol[indices[0]][indices[1]][indices[2]][indices[3]][indices[4]][indices[5]][indices[6]][indices[7]][indices[8]][indices[9]] = subarbol\n",
    "    return nuevo_arbol\n",
    "\n",
    "entradas = {'A': True, 'B': False, 'C': True}\n",
    "nested_list = generar_individuo(3)\n",
    "indices = obtener_indices(nested_list, 3)\n",
    "print(indices)\n",
    "print(\"arbol original\", nested_list)\n",
    "subarbol = generar_individuo(3)\n",
    "print(\"subarbol\", subarbol)\n",
    "arbol_mutado = insertar_subarbol(nested_list, indices, subarbol)\n",
    "print(\"arbol mutado\", arbol_mutado)\n",
    "\n",
    "a = evaluar_individuo(arbol_mutado, entradas)\n",
    "print(a)\n",
    "\n"
   ]
  },
  {
   "cell_type": "code",
   "execution_count": 101,
   "metadata": {},
   "outputs": [
    {
     "name": "stdout",
     "output_type": "stream",
     "text": [
      "indices [1, 2, 0, 0, 0, 0, 0, 0, 0, 0, 0, 0, 0, 0, 0]\n",
      "individuo ['NOT', ['OR', ['AND', 'A', 'A'], ['OR', 'B', 'C']]]\n",
      "subarbol ['OR', ['AND', ['AND', 'A', 'B'], ['AND', 'B', 'B']], ['NOT', ['AND', 'C', 'B']]]\n"
     ]
    }
   ],
   "source": [
    "a = generar_individuo(4)\n",
    "indices = obtener_indices(a, 15)\n",
    "b = generar_individuo(4)\n",
    "\n",
    "\n",
    "# a =  ['OR', ['NOT', 'B'], ['OR', 'C', 'C']]\n",
    "# indices = [0, 1]\n",
    "# b = ['AND', ['NOT', 'C'], ['OR', 'C', 'B']]\n",
    "\n",
    "indices = [1, 2, 0, 0, 0, 0, 0, 0, 0, 0, 0, 0, 0, 0, 0]\n",
    "a = ['NOT', ['OR', ['AND', 'A', 'A'], ['OR', 'B', 'C']]]\n",
    "b = ['OR', ['AND', ['AND', 'A', 'B'], ['AND', 'B', 'B']], ['NOT', ['AND', 'C', 'B']]]\n",
    "\n",
    "\n",
    "print(\"indices\", indices)\n",
    "print(\"individuo\", a)   \n",
    "print(\"subarbol\", b)"
   ]
  },
  {
   "cell_type": "code",
   "execution_count": 102,
   "metadata": {},
   "outputs": [
    {
     "name": "stdout",
     "output_type": "stream",
     "text": [
      "arbol original ['NOT', ['OR', ['AND', 'A', 'A'], ['OR', 'B', 'C']]]\n",
      "subarbol       ['OR', ['AND', ['AND', 'A', 'B'], ['AND', 'B', 'B']], ['NOT', ['AND', 'C', 'B']]]\n",
      "indices        [1, 2, 0, 0, 0, 0, 0, 0, 0, 0, 0, 0, 0, 0, 0]\n",
      "i 2\n",
      "nuevo          ['NOT', ['OR', ['AND', 'A', 'A'], ['OR', ['AND', ['AND', 'A', 'B'], ['AND', 'B', 'B']], ['NOT', ['AND', 'C', 'B']]]]]\n"
     ]
    }
   ],
   "source": [
    "def insertar_subarbol(arbol, indices, subarbol):\n",
    "    nuevo_arbol = arbol.copy()\n",
    "    for i in range(len(indices)):\n",
    "        if indices[i] == 0:\n",
    "            break\n",
    "\n",
    "    print(\"i\", i)\n",
    "    if i == 0:\n",
    "        nuevo_arbol = subarbol\n",
    "    elif i == 1:\n",
    "        nuevo_arbol[indices[0]] = subarbol\n",
    "    elif i == 2:\n",
    "        nuevo_arbol[indices[0]][indices[1]] = subarbol\n",
    "    elif i == 3:       \n",
    "        nuevo_arbol[indices[0]][indices[1]][indices[2]] = subarbol\n",
    "    elif i == 4:\n",
    "        nuevo_arbol[indices[0]][indices[1]][indices[2]][indices[3]] = subarbol\n",
    "    elif i == 5:\n",
    "        nuevo_arbol[indices[0]][indices[1]][indices[2]][indices[3]][indices[4]] = subarbol\n",
    "    elif i == 6:\n",
    "        nuevo_arbol[indices[0]][indices[1]][indices[2]][indices[3]][indices[4]][indices[5]] = subarbol\n",
    "    elif i == 7:\n",
    "        nuevo_arbol[indices[0]][indices[1]][indices[2]][indices[3]][indices[4]][indices[5]][indices[6]] = subarbol\n",
    "    elif i == 8:\n",
    "        nuevo_arbol[indices[0]][indices[1]][indices[2]][indices[3]][indices[4]][indices[5]][indices[6]][indices[7]] = subarbol\n",
    "    elif i == 9:\n",
    "        nuevo_arbol[indices[0]][indices[1]][indices[2]][indices[3]][indices[4]][indices[5]][indices[6]][indices[7]][indices[8]] = subarbol\n",
    "    elif i == 10:\n",
    "        nuevo_arbol[indices[0]][indices[1]][indices[2]][indices[3]][indices[4]][indices[5]][indices[6]][indices[7]][indices[8]][indices[9]] = subarbol\n",
    "    return nuevo_arbol\n",
    "\n",
    "print(\"arbol original\", a)\n",
    "print(\"subarbol      \", b)\n",
    "print(\"indices       \", indices)\n",
    "\n",
    "nuevo = insertar_subarbol(a, indices, b)\n",
    "print(\"nuevo         \", nuevo)\n",
    "\n",
    "\n"
   ]
  },
  {
   "cell_type": "code",
   "execution_count": 74,
   "metadata": {},
   "outputs": [],
   "source": [
    "a[1][1][1] = b"
   ]
  },
  {
   "cell_type": "code",
   "execution_count": 103,
   "metadata": {},
   "outputs": [
    {
     "data": {
      "text/plain": [
       "False"
      ]
     },
     "execution_count": 103,
     "metadata": {},
     "output_type": "execute_result"
    }
   ],
   "source": [
    "evaluar_individuo(nuevo, entradas)"
   ]
  },
  {
   "cell_type": "code",
   "execution_count": 96,
   "metadata": {},
   "outputs": [
    {
     "name": "stdout",
     "output_type": "stream",
     "text": [
      "0\n"
     ]
    }
   ],
   "source": [
    "indices = [0,0,0,2,4]\n",
    "for i in range(len(indices)):\n",
    "    if indices[i] == 0:\n",
    "        break\n",
    "print(i)"
   ]
  },
  {
   "cell_type": "code",
   "execution_count": null,
   "metadata": {},
   "outputs": [
    {
     "name": "stdout",
     "output_type": "stream",
     "text": [
      "[1, 2, 3]\n"
     ]
    }
   ],
   "source": []
  }
 ],
 "metadata": {
  "kernelspec": {
   "display_name": "m_evolutivo",
   "language": "python",
   "name": "python3"
  },
  "language_info": {
   "codemirror_mode": {
    "name": "ipython",
    "version": 3
   },
   "file_extension": ".py",
   "mimetype": "text/x-python",
   "name": "python",
   "nbconvert_exporter": "python",
   "pygments_lexer": "ipython3",
   "version": "3.12.2"
  }
 },
 "nbformat": 4,
 "nbformat_minor": 2
}
