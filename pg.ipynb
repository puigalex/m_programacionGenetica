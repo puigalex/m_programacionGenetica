{
 "cells": [
  {
   "cell_type": "code",
   "execution_count": 716,
   "metadata": {},
   "outputs": [],
   "source": [
    "import random\n",
    "\n",
    "# Definir el conjunto de funciones\n",
    "def AND(x, y):\n",
    "    return x and y\n",
    "\n",
    "def OR(x, y):\n",
    "    return x or y\n",
    "\n",
    "def NOT(x):\n",
    "    return not x\n",
    "\n",
    "# Definir los nodos terminales\n",
    "nodos_terminales = ['A', 'B', 'C']\n",
    "\n",
    "# Definir la profundidad máxima de las expresiones\n",
    "profundidad_maxima = 4\n",
    "\n",
    "# Generar un individuo aleatorio\n",
    "def generar_individuo(profundidad):\n",
    "    if profundidad == 1:\n",
    "        return random.choice(nodos_terminales)\n",
    "    else:\n",
    "        funcion = random.choice([AND, OR, NOT])\n",
    "        if funcion == NOT:\n",
    "            return [funcion.__name__, generar_individuo(profundidad - 1)]\n",
    "        else:\n",
    "            return [funcion.__name__, generar_individuo(profundidad - 1), generar_individuo(profundidad - 1)]\n",
    "\n",
    "# Evaluar un individuo\n",
    "def evaluar_individuo(individuo, entradas):\n",
    "    if isinstance(individuo, str):\n",
    "        return entradas[individuo]\n",
    "    else:\n",
    "        nombre_funcion = individuo[0]\n",
    "        if nombre_funcion == 'AND':\n",
    "            return AND(evaluar_individuo(individuo[1], entradas), evaluar_individuo(individuo[2], entradas))\n",
    "        elif nombre_funcion == 'OR':\n",
    "            return OR(evaluar_individuo(individuo[1], entradas), evaluar_individuo(individuo[2], entradas))\n",
    "        elif nombre_funcion == 'NOT':\n",
    "            return NOT(evaluar_individuo(individuo[1], entradas))\n",
    "        \n",
    "def mutar_individuo(individuo):\n",
    "    nivel_mutacion = random.randint(1, profundidad_maxima - 1)\n",
    "    print(f\"Nivel de mutación: {nivel_mutacion}\")\n",
    "    subarbol = generar_individuo(profundidad_maxima-nivel_mutacion)\n",
    "    indices = []\n",
    "    i = 0\n",
    "    while i < nivel_mutacion:\n",
    "        rama = random.randint(0, len(individuo_recorrido[i]) - 1)    \n",
    "        indices.append(rama)\n",
    "        i += 1\n",
    "    \n",
    "    indice_sustitir = index_multi_dimensional_list(individuo, indices)\n",
    "    print(f\"Indice a sustituir: {indice_sustitir}\")\n",
    "    return individuo\n",
    "\n",
    "def index_multi_dimensional_list(data_list, indices):\n",
    "    if not indices:\n",
    "        return data_list\n",
    "    else:\n",
    "        index = indices[0]\n",
    "        if index < len(data_list):\n",
    "            return index_multi_dimensional_list(data_list[index], indices[1:])\n",
    "        else:\n",
    "            raise IndexError(\"Index out of range\")\n",
    "\n",
    "\n",
    "# Probar el algoritmo de programación genética\n",
    "# individuo = generar_individuo(profundidad_maxima)\n",
    "# individuo_mutado = mutar_individuo(individuo)\n",
    "# print(f\"Individuo generado: {individuo}\")\n",
    "# print(f\"Individuo mutado:   {individuo_mutado}\")\n",
    "\n",
    "# entradas = {'A': True, 'B': False, 'C': True}\n",
    "# resultado = evaluar_individuo(individuo_mutado, entradas)\n",
    "# print(f\"Resultado evaluado: {resultado}\")\n"
   ]
  },
  {
   "cell_type": "code",
   "execution_count": 205,
   "metadata": {},
   "outputs": [
    {
     "name": "stdout",
     "output_type": "stream",
     "text": [
      "2.5\n"
     ]
    }
   ],
   "source": [
    "def index_multi_dimensional_list(data_list, indices):\n",
    "    if not indices:\n",
    "        return data_list\n",
    "    else:\n",
    "        index = indices[0]\n",
    "        if index < len(data_list):\n",
    "            return index_multi_dimensional_list(data_list[index], indices[1:])\n",
    "        else:\n",
    "            raise IndexError(\"Index out of range\")\n",
    "\n",
    "# Example usage\n",
    "nested_list = [[1, 2,2.5,2.6], [3, 4, [5, 6], 7, 8]] \n",
    "indices = [0, 2]\n",
    "result = index_multi_dimensional_list(nested_list, indices)\n",
    "print(result)"
   ]
  },
  {
   "cell_type": "code",
   "execution_count": 212,
   "metadata": {},
   "outputs": [],
   "source": [
    "nested_list = [['Y', ['NO', 'C'], ['Y', 'C', 'C']], ['O', ['Y', 'C', 'A'], ['NO', 'C']], ['Y', ['NO', 'C'], ['O', 'C', 'C']]]\n",
    "indices = [1, 1, 1]\n",
    "result = index_multi_dimensional_list(nested_list, indices)"
   ]
  },
  {
   "cell_type": "code",
   "execution_count": 213,
   "metadata": {},
   "outputs": [
    {
     "name": "stdout",
     "output_type": "stream",
     "text": [
      "C\n"
     ]
    }
   ],
   "source": [
    "print(result)"
   ]
  },
  {
   "cell_type": "code",
   "execution_count": 711,
   "metadata": {},
   "outputs": [
    {
     "name": "stdout",
     "output_type": "stream",
     "text": [
      "[['Y', ['NO', 'C'], ['Y', 'C', 'C']], ['O', ['Y', 'New Value', 'A'], ['NO', 'C']], ['Y', ['NO', 'C'], ['O', 'C', 'C']]]\n"
     ]
    }
   ],
   "source": [
    "nested_list = [['Y', ['NO', 'C'], ['Y', 'C', 'C']], ['O', ['Y', 'C', 'A'], ['NO', 'C']], ['Y', ['NO', 'C'], ['O', 'C', 'C']]]\n",
    "indices = [1, 1, 1]\n",
    "\n",
    "# Define the value to be assigned\n",
    "new_value = 'New Value'\n",
    "\n",
    "# Access the element using variable length indices and change its value\n",
    "current_level = nested_list\n",
    "for index in indices[:-1]:\n",
    "    current_level = current_level[index]\n",
    "current_level[indices[-1]] = new_value\n",
    "\n",
    "# Check the updated nested list\n",
    "print(nested_list)"
   ]
  },
  {
   "cell_type": "code",
   "execution_count": 715,
   "metadata": {},
   "outputs": [
    {
     "name": "stdout",
     "output_type": "stream",
     "text": [
      "[1]\n",
      "arbol original ['AND_F', ['OR_F', 'C', 'A'], ['AND_F', 'C', 'B']]\n",
      "subarbol ['NOT_F', ['AND_F', 'B', 'A']]\n",
      "arbol mutado ['AND_F', ['NOT_F', ['AND_F', 'B', 'A']], ['AND_F', 'C', 'B']]\n",
      "None\n"
     ]
    }
   ],
   "source": [
    "nested_list = ['NO', ['NO', ['Y', 'C', 'A']]]\n",
    "\n",
    "def obtener_indices(nested_list, profundidad_maxima, probabilidad_mutacion=0.1):\n",
    "    '''\n",
    "    Funcion que regresa los indices del bloque que se modificará en un individuo\n",
    "    '''\n",
    "    indices = []\n",
    "    for i in range(profundidad_maxima):\n",
    "        if isinstance(nested_list, list):  \n",
    "            indices.append(random.randint(0, len(nested_list) - 1))\n",
    "            nested_list = nested_list[indices[i]]\n",
    "        else:\n",
    "            break\n",
    "    return indices[:random.randint(1, len(indices))]\n",
    "\n",
    "\n",
    "\n",
    "def insertar_subarbol(nested_list, indices, subarbol):\n",
    "    '''\n",
    "    Funcion que inserta un subarbol en un individuo\n",
    "    '''\n",
    "    current_level = nested_list\n",
    "    for index in indices[:-1]:\n",
    "        current_level = current_level[index]\n",
    "    if indices == [0]:\n",
    "        print(\"entro\")\n",
    "        for i in range(1, len(nested_list)):\n",
    "            subarbol.append(nested_list[i])\n",
    "            return subarbol\n",
    "    else:\n",
    "        current_level[indices[-1]] = subarbol\n",
    "    return nested_list\n",
    "\n",
    "\n",
    "\n",
    "indices = obtener_indices(nested_list, 3)\n",
    "print(indices)\n",
    "nested_list = generar_individuo(3)\n",
    "print(\"arbol original\", nested_list)\n",
    "subarbol = generar_individuo(3)\n",
    "print(\"subarbol\", subarbol)\n",
    "nested_list = insertar_subarbol(nested_list, indices, subarbol)\n",
    "print(\"arbol mutado\", nested_list)\n",
    "\n",
    "a = evaluar_individuo(nested_list, entradas)\n",
    "print(a)\n",
    "\n"
   ]
  },
  {
   "cell_type": "code",
   "execution_count": 638,
   "metadata": {},
   "outputs": [
    {
     "name": "stdout",
     "output_type": "stream",
     "text": [
      "False\n"
     ]
    }
   ],
   "source": [
    "mutado = ['Y', ['Y', 'C', 'B'], ['NO', 'C'], ['NO', ['Y', 'C', 'A']]]\n",
    "b = evaluar_individuo(mutado, entradas)\n",
    "print(b)\n"
   ]
  },
  {
   "cell_type": "code",
   "execution_count": 648,
   "metadata": {},
   "outputs": [
    {
     "name": "stdout",
     "output_type": "stream",
     "text": [
      "[[6, 7, [8, 9]], 2, [3, 4, 5]]\n"
     ]
    }
   ],
   "source": [
    "a = [1, 2, [3, 4, 5]]\n",
    "new_list = [6, 7, [8, 9]]\n",
    "\n",
    "a[0] = new_list\n",
    "\n",
    "print(a)"
   ]
  },
  {
   "cell_type": "code",
   "execution_count": 669,
   "metadata": {},
   "outputs": [
    {
     "data": {
      "text/plain": [
       "[6, 7, [8, 9], 2, [3, 4, 5]]"
      ]
     },
     "execution_count": 669,
     "metadata": {},
     "output_type": "execute_result"
    }
   ],
   "source": [
    "a = [1, 2, [3, 4, 5]]\n",
    "new_list = [6, 7, [8, 9]]\n",
    "\n",
    "for i in range(1, len(a)):\n",
    "    new_list.append(a[i])\n",
    "\n",
    "new_list"
   ]
  },
  {
   "cell_type": "code",
   "execution_count": 650,
   "metadata": {},
   "outputs": [
    {
     "data": {
      "text/plain": [
       "['NO', 'C']"
      ]
     },
     "execution_count": 650,
     "metadata": {},
     "output_type": "execute_result"
    }
   ],
   "source": [
    "mutado[2]"
   ]
  },
  {
   "cell_type": "code",
   "execution_count": null,
   "metadata": {},
   "outputs": [],
   "source": []
  }
 ],
 "metadata": {
  "kernelspec": {
   "display_name": "m_evolutivo",
   "language": "python",
   "name": "python3"
  },
  "language_info": {
   "codemirror_mode": {
    "name": "ipython",
    "version": 3
   },
   "file_extension": ".py",
   "mimetype": "text/x-python",
   "name": "python",
   "nbconvert_exporter": "python",
   "pygments_lexer": "ipython3",
   "version": "3.12.2"
  }
 },
 "nbformat": 4,
 "nbformat_minor": 2
}
