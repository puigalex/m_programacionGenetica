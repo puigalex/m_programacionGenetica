{
 "cells": [
  {
   "cell_type": "code",
   "execution_count": 10,
   "metadata": {},
   "outputs": [],
   "source": [
    "import random "
   ]
  },
  {
   "cell_type": "code",
   "execution_count": 488,
   "metadata": {},
   "outputs": [],
   "source": [
    "def and_f(x,y):\n",
    "    return (x and y)\n",
    "\n",
    "def or_f(x,y):\n",
    "    return (x or y)\n",
    "\n",
    "def not_f(x):\n",
    "    return not(x)\n",
    "\n",
    "def crear_func(max_nodos=10):\n",
    "    num_nodos = random.choice(range(2, max_nodos))\n",
    "    individuo = []\n",
    "    sum_aridades = 0\n",
    "    nodo_inicial = random.choice(funciones)\n",
    "    individuo.append(nodo_inicial)\n",
    "    sum_aridades = aridad[nodo_inicial]\n",
    "    for i in range(num_nodos):\n",
    "        if sum_aridades ==0:\n",
    "            print(\"break\")\n",
    "            break\n",
    "        def_nodo = random.choice(tipo_nodo)\n",
    "        if def_nodo == \"Terminal\" or ((num_nodos-len(individuo)) <=sum_aridades):\n",
    "            nodo = random.choice(terminales)\n",
    "            individuo.append(nodo)\n",
    "            sum_aridades = sum_aridades - 1 + aridad[nodo]\n",
    "        else:\n",
    "            def_nodo == \"Funcion\"\n",
    "            nodo = random.choice(funciones)\n",
    "            individuo.append(nodo)\n",
    "            sum_aridades = sum_aridades - 1 + aridad[nodo]\n",
    "    return individuo\n",
    "\n",
    "def recortar_individuo(ind_test):\n",
    "    individuo_recortado = ind_test[:MAX_PROF]\n",
    "    sum_aridades = 0\n",
    "\n",
    "    for i, nodo in enumerate(individuo_recortado):\n",
    "\n",
    "        if (sum_aridades+aridad[nodo]) > MAX_PROF-i-1:\n",
    "            break\n",
    "        elif i != 0:\n",
    "            sum_aridades = sum_aridades + aridad[nodo] -1\n",
    "        else:\n",
    "            sum_aridades = sum_aridades + aridad[nodo]\n",
    "        print(\"sum_aridades\", sum_aridades)\n",
    "        print(\"restantes: \" , MAX_PROF-i)\n",
    "    print(i)\n",
    "    print(sum_aridades)\n",
    "    for j in range(i, len(individuo_recortado)):\n",
    "        if sum_aridades == 0:\n",
    "            print(\"break\")\n",
    "            print(\"j: \", j)\n",
    "            print(\"i: \", i)\n",
    "            return individuo_recortado[:j]\n",
    "        individuo_recortado[j] = random.choice(terminales)\n",
    "        sum_aridades-= 1\n",
    "    return individuo_recortado\n",
    "\n",
    "def encontrar_expresion(individuo, indice):\n",
    "    '''\n",
    "    Funcion que recibe individuo y un indice y retorna el siguiente indice donde la aridad de 0 \n",
    "    para asegurarse que lo que esté entre los indices sea una expresion completa \n",
    "    '''\n",
    "    sum_aridades = 1\n",
    "    for i, nodo in enumerate(individuo[indice:], indice):\n",
    "        sum_aridades = sum_aridades + aridad[nodo] -1\n",
    "        if sum_aridades == 0:\n",
    "            return i\n",
    "\n",
    "\n",
    "\n",
    "\n",
    "\n",
    "MAX_PROF = 10\n",
    "funciones = [\"AND\", \"OR\", \"NOT\"]\n",
    "terminales = [\"A\", \"B\", \"C\"]\n",
    "aridad = {\"AND\": 2, \"OR\": 2, \"NOT\":1, \"A\":0, \"B\":0, \"C\":0}\n",
    "tipo_nodo = [\"Terminal\", \"Funcion\"]\n",
    "\n"
   ]
  },
  {
   "cell_type": "code",
   "execution_count": 489,
   "metadata": {},
   "outputs": [
    {
     "name": "stdout",
     "output_type": "stream",
     "text": [
      "['NOT', 'OR', 'AND', 'C', 'AND', 'B', 'OR', 'B', 'C', 'A']\n"
     ]
    }
   ],
   "source": [
    "MAX_PROF = 10\n",
    "individuo = crear_func(MAX_PROF)\n",
    "print(individuo)\n",
    "\n"
   ]
  },
  {
   "cell_type": "code",
   "execution_count": 597,
   "metadata": {},
   "outputs": [],
   "source": [
    "ind_test = ['NOT', 'OR', 'AND', 'C', 'AND', 'B', 'OR', 'B', 'C', 'A']"
   ]
  },
  {
   "cell_type": "code",
   "execution_count": 650,
   "metadata": {},
   "outputs": [
    {
     "name": "stdout",
     "output_type": "stream",
     "text": [
      "sum_aridades 1\n",
      "restantes:  10\n",
      "sum_aridades 2\n",
      "restantes:  9\n",
      "sum_aridades 3\n",
      "restantes:  8\n",
      "sum_aridades 2\n",
      "restantes:  7\n",
      "sum_aridades 3\n",
      "restantes:  6\n",
      "sum_aridades 2\n",
      "restantes:  5\n",
      "6\n",
      "2\n",
      "break\n",
      "j:  8\n",
      "i:  6\n",
      "['NOT', 'OR', 'AND', 'C', 'AND', 'B', 'B', 'B']\n"
     ]
    }
   ],
   "source": [
    "MAX_PROF = 10\n",
    "def recortar_individuo(ind_test):\n",
    "    individuo_recortado = ind_test[:MAX_PROF]\n",
    "    sum_aridades = 0\n",
    "\n",
    "    for i, nodo in enumerate(individuo_recortado):\n",
    "\n",
    "        if (sum_aridades+aridad[nodo]) > MAX_PROF-i-1:\n",
    "            break\n",
    "        elif i != 0:\n",
    "            sum_aridades = sum_aridades + aridad[nodo] -1\n",
    "        else:\n",
    "            sum_aridades = sum_aridades + aridad[nodo]\n",
    "        print(\"sum_aridades\", sum_aridades)\n",
    "        print(\"restantes: \" , MAX_PROF-i)\n",
    "    print(i)\n",
    "    print(sum_aridades)\n",
    "    for j in range(i, len(individuo_recortado)):\n",
    "        if sum_aridades == 0:\n",
    "            print(\"break\")\n",
    "            print(\"j: \", j)\n",
    "            print(\"i: \", i)\n",
    "            return individuo_recortado[:j]\n",
    "        individuo_recortado[j] = random.choice(terminales)\n",
    "        sum_aridades-= 1\n",
    "    return individuo_recortado\n",
    "\n",
    "\n",
    "\n",
    "\n",
    "ind_rec = recortar_individuo(ind_test)\n",
    "print(ind_rec)\n",
    "\n",
    "\n",
    "\n"
   ]
  },
  {
   "cell_type": "code",
   "execution_count": 580,
   "metadata": {},
   "outputs": [
    {
     "data": {
      "text/plain": [
       "['NOT', 'OR', 'AND', 'C', 'C', 'B', 'A']"
      ]
     },
     "execution_count": 580,
     "metadata": {},
     "output_type": "execute_result"
    }
   ],
   "source": [
    "individuo_recortado"
   ]
  },
  {
   "cell_type": "code",
   "execution_count": 541,
   "metadata": {},
   "outputs": [
    {
     "name": "stdout",
     "output_type": "stream",
     "text": [
      "1 NOT\n",
      "2 OR\n",
      "3 AND\n",
      "4 A\n",
      "5 B\n",
      "6 B\n",
      "7 A\n"
     ]
    }
   ],
   "source": [
    "for i, j in enumerate(individuo_recortado,1):\n",
    "    print(i, j)"
   ]
  },
  {
   "cell_type": "code",
   "execution_count": 602,
   "metadata": {},
   "outputs": [
    {
     "name": "stdout",
     "output_type": "stream",
     "text": [
      "3\n"
     ]
    }
   ],
   "source": [
    "def encontrar_expresion(individuo, indice):\n",
    "    '''\n",
    "    Funcion que recibe individuo y un indice y retorna el siguiente indice donde la aridad de 0 \n",
    "    para asegurarse que lo que esté entre los indices sea una expresion completa \n",
    "    '''\n",
    "    sum_aridades = 1\n",
    "    for i, nodo in enumerate(individuo[indice:], indice):\n",
    "        sum_aridades = sum_aridades + aridad[nodo] -1\n",
    "        if sum_aridades == 0:\n",
    "            return i\n",
    "\n",
    "\n",
    "ind_test = ['NOT', 'OR', 'AND', 'C', 'AND', 'B', 'OR', 'B', 'C', 'A']\n",
    "\n",
    "indice_final = encontrar_expresion(ind_test, 3)\n",
    "print(indice_final)"
   ]
  },
  {
   "cell_type": "code",
   "execution_count": 684,
   "metadata": {},
   "outputs": [
    {
     "name": "stdout",
     "output_type": "stream",
     "text": [
      "False\n"
     ]
    }
   ],
   "source": [
    "def eval_polish(expr):\n",
    "    stack = []\n",
    "    operators = {\n",
    "        'NOT': lambda x: not x,\n",
    "        'AND': lambda x, y: x and y,\n",
    "        'OR': lambda x, y: x or y,\n",
    "    }\n",
    "    variables = {\n",
    "        'A': True,  # Replace with the actual value\n",
    "        'B': True, # Replace with the actual value\n",
    "        'C': False,  # Replace with the actual value\n",
    "    }\n",
    "\n",
    "    for token in reversed(expr):\n",
    "        if token in operators:\n",
    "            if token == 'NOT':\n",
    "                operand = stack.pop()\n",
    "                stack.append(operators[token](operand))\n",
    "            else:\n",
    "                operand1 = stack.pop()\n",
    "                operand2 = stack.pop()\n",
    "                stack.append(operators[token](operand1, operand2))\n",
    "        else:\n",
    "            stack.append(variables[token])\n",
    "\n",
    "    return stack[0]\n",
    "\n",
    "\n",
    "expr = ]\n",
    "print(eval_polish(expr))  # Output: True"
   ]
  },
  {
   "cell_type": "code",
   "execution_count": 681,
   "metadata": {},
   "outputs": [
    {
     "name": "stdout",
     "output_type": "stream",
     "text": [
      "['NOT', ['OR', 'A', ['AND', ['AND', ['OR', 'C', 'B'], 'B'], 'C']]]\n"
     ]
    }
   ],
   "source": [
    "def reverse_polish_notation(expression):\n",
    "    stack = []\n",
    "    operators = {'AND', 'OR', 'NOT'}\n",
    "\n",
    "    for item in reversed(expression):\n",
    "        if item not in operators:\n",
    "            stack.append(item)\n",
    "        else:\n",
    "            if item == 'NOT':\n",
    "                operand = stack.pop()\n",
    "                result = ['NOT', operand]\n",
    "            else:\n",
    "                operand2 = stack.pop()\n",
    "                operand1 = stack.pop()\n",
    "                result = [item, operand1, operand2]\n",
    "            stack.append(result)\n",
    "\n",
    "    return stack.pop()\n",
    "\n",
    "expression = ['NOT', 'OR', 'AND', 'C', 'AND', 'B', 'OR', 'B', 'C', 'A']\n",
    "result = reverse_polish_notation(expression)\n",
    "print(result)\n"
   ]
  },
  {
   "cell_type": "code",
   "execution_count": 669,
   "metadata": {},
   "outputs": [],
   "source": [
    "s = []\n",
    "op = s.pop\n"
   ]
  },
  {
   "cell_type": "code",
   "execution_count": 667,
   "metadata": {},
   "outputs": [
    {
     "data": {
      "text/plain": [
       "[True, False, True]"
      ]
     },
     "execution_count": 667,
     "metadata": {},
     "output_type": "execute_result"
    }
   ],
   "source": [
    "s.append(True) \n",
    "s"
   ]
  },
  {
   "cell_type": "code",
   "execution_count": 670,
   "metadata": {},
   "outputs": [
    {
     "data": {
      "text/plain": [
       "<function list.pop(index=-1, /)>"
      ]
     },
     "execution_count": 670,
     "metadata": {},
     "output_type": "execute_result"
    }
   ],
   "source": []
  },
  {
   "cell_type": "code",
   "execution_count": 676,
   "metadata": {},
   "outputs": [
    {
     "data": {
      "text/plain": [
       "<function list.pop(index=-1, /)>"
      ]
     },
     "execution_count": 676,
     "metadata": {},
     "output_type": "execute_result"
    }
   ],
   "source": [
    "a = [1,2,3,4,5,6,7,8,9,10]\n",
    "a.pop"
   ]
  },
  {
   "cell_type": "code",
   "execution_count": 677,
   "metadata": {},
   "outputs": [
    {
     "data": {
      "text/plain": [
       "[1, 2, 3, 4, 5, 6, 7, 8, 9, 10]"
      ]
     },
     "execution_count": 677,
     "metadata": {},
     "output_type": "execute_result"
    }
   ],
   "source": [
    "a"
   ]
  },
  {
   "cell_type": "code",
   "execution_count": 678,
   "metadata": {},
   "outputs": [],
   "source": [
    "b = a.pop()"
   ]
  },
  {
   "cell_type": "code",
   "execution_count": 679,
   "metadata": {},
   "outputs": [
    {
     "data": {
      "text/plain": [
       "10"
      ]
     },
     "execution_count": 679,
     "metadata": {},
     "output_type": "execute_result"
    }
   ],
   "source": [
    "b"
   ]
  },
  {
   "cell_type": "code",
   "execution_count": 680,
   "metadata": {},
   "outputs": [
    {
     "data": {
      "text/plain": [
       "[1, 2, 3, 4, 5, 6, 7, 8, 9]"
      ]
     },
     "execution_count": 680,
     "metadata": {},
     "output_type": "execute_result"
    }
   ],
   "source": [
    "a"
   ]
  },
  {
   "cell_type": "code",
   "execution_count": null,
   "metadata": {},
   "outputs": [],
   "source": [
    "['NOT', 'OR', 'AND', 'C', 'AND', 'B', 'OR', 'B', 'C', 'A']\n",
    "\n",
    "abs - + c + b - b c a"
   ]
  },
  {
   "cell_type": "code",
   "execution_count": 685,
   "metadata": {},
   "outputs": [
    {
     "name": "stdout",
     "output_type": "stream",
     "text": [
      "((c+(b+(b-c)))-a)\n"
     ]
    }
   ],
   "source": [
    "def prefixToInfix(prefix):\n",
    "    stack = []\n",
    "     \n",
    "    # read prefix in reverse order\n",
    "    i = len(prefix) - 1\n",
    "    while i >= 0:\n",
    "        if not isOperator(prefix[i]):\n",
    "             \n",
    "            # symbol is operand\n",
    "            stack.append(prefix[i])\n",
    "            i -= 1\n",
    "        else:\n",
    "           \n",
    "            # symbol is operator\n",
    "            str = \"(\" + stack.pop() + prefix[i] + stack.pop() + \")\"\n",
    "            stack.append(str)\n",
    "            i -= 1\n",
    "     \n",
    "    return stack.pop()\n",
    " \n",
    "def isOperator(c):\n",
    "    if c == \"*\" or c == \"+\" or c == \"-\" or c == \"/\" or c == \"^\" or c == \"(\" or c == \")\":\n",
    "        return True\n",
    "    else:\n",
    "        return False\n",
    " \n",
    "# Driver code\n",
    "if __name__==\"__main__\":\n",
    "    str = \"-+c+b-bca\"\n",
    "    print(prefixToInfix(str))"
   ]
  },
  {
   "cell_type": "code",
   "execution_count": null,
   "metadata": {},
   "outputs": [],
   "source": []
  }
 ],
 "metadata": {
  "kernelspec": {
   "display_name": "m_evolutivo",
   "language": "python",
   "name": "python3"
  },
  "language_info": {
   "codemirror_mode": {
    "name": "ipython",
    "version": 3
   },
   "file_extension": ".py",
   "mimetype": "text/x-python",
   "name": "python",
   "nbconvert_exporter": "python",
   "pygments_lexer": "ipython3",
   "version": "3.12.2"
  }
 },
 "nbformat": 4,
 "nbformat_minor": 2
}
