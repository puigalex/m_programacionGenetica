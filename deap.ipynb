{
 "cells": [
  {
   "cell_type": "code",
   "execution_count": 2,
   "metadata": {},
   "outputs": [],
   "source": [
    "from deap import base, creator, gp, algorithms\n",
    "from deap import tools\n",
    "import operator\n"
   ]
  },
  {
   "cell_type": "code",
   "execution_count": 6,
   "metadata": {},
   "outputs": [
    {
     "name": "stderr",
     "output_type": "stream",
     "text": [
      "/Users/alex/miniforge3/envs/m_evolutivo/lib/python3.12/site-packages/deap/creator.py:185: RuntimeWarning: A class named 'FitnessMax' has already been created and it will be overwritten. Consider deleting previous creation of that class or rename it.\n",
      "  warnings.warn(\"A class named '{0}' has already been created and it \"\n",
      "/Users/alex/miniforge3/envs/m_evolutivo/lib/python3.12/site-packages/deap/creator.py:185: RuntimeWarning: A class named 'Individual' has already been created and it will be overwritten. Consider deleting previous creation of that class or rename it.\n",
      "  warnings.warn(\"A class named '{0}' has already been created and it \"\n"
     ]
    },
    {
     "name": "stdout",
     "output_type": "stream",
     "text": [
      "gen\tnevals\tavg    \tstd    \tmin\tmax\n",
      "0  \t300   \t31.9867\t1.23551\t24 \t48 \n",
      "1  \t185   \t31.9933\t0.565646\t24 \t36 \n",
      "2  \t175   \t32.0633\t0.415518\t30 \t36 \n",
      "3  \t184   \t32.1567\t0.65227 \t30 \t37 \n",
      "4  \t182   \t32.25  \t0.852936\t30 \t37 \n",
      "5  \t194   \t32.4667\t1.20922 \t28 \t37 \n",
      "6  \t183   \t32.91  \t1.62129 \t28 \t38 \n",
      "7  \t199   \t33.3   \t1.84842 \t28 \t40 \n",
      "8  \t175   \t33.7433\t2.03735 \t28 \t40 \n",
      "9  \t183   \t34.2033\t2.17148 \t28 \t40 \n",
      "10 \t182   \t34.3933\t2.27126 \t28 \t40 \n",
      "11 \t192   \t34.6667\t2.34852 \t22 \t40 \n",
      "12 \t173   \t34.9267\t2.4889  \t28 \t40 \n",
      "13 \t165   \t35.1533\t2.70736 \t24 \t42 \n",
      "14 \t164   \t35.51  \t2.72578 \t26 \t42 \n",
      "15 \t174   \t35.7467\t3.00153 \t24 \t44 \n",
      "16 \t166   \t36.06  \t3.30501 \t28 \t44 \n",
      "17 \t179   \t36.3633\t3.84075 \t20 \t44 \n",
      "18 \t183   \t37.01  \t3.96357 \t20 \t44 \n",
      "19 \t181   \t37.87  \t3.79558 \t26 \t44 \n",
      "20 \t183   \t38.1267\t4.41633 \t24 \t44 \n",
      "21 \t185   \t38.57  \t4.43679 \t24 \t46 \n",
      "22 \t201   \t38.5933\t5.01942 \t18 \t46 \n",
      "23 \t165   \t39.67  \t4.82159 \t21 \t48 \n",
      "24 \t178   \t40.65  \t4.8943  \t20 \t48 \n",
      "25 \t177   \t41.0133\t5.06029 \t25 \t48 \n",
      "26 \t158   \t41.51  \t5.65537 \t18 \t48 \n",
      "27 \t187   \t41.72  \t6.06973 \t18 \t48 \n",
      "28 \t171   \t42.17  \t5.97616 \t23 \t48 \n",
      "29 \t179   \t42.4067\t6.19096 \t16 \t48 \n",
      "30 \t193   \t42.2   \t6.51102 \t20 \t48 \n",
      "31 \t168   \t43.4167\t6.00525 \t24 \t48 \n",
      "32 \t175   \t43.76  \t6.37409 \t16 \t48 \n",
      "33 \t183   \t43.2533\t6.50045 \t16 \t48 \n",
      "34 \t184   \t43.81  \t6.11615 \t24 \t48 \n",
      "35 \t192   \t43.5433\t6.74202 \t16 \t48 \n",
      "36 \t177   \t43.56  \t6.2391  \t24 \t48 \n",
      "37 \t163   \t44.58  \t5.76341 \t24 \t48 \n",
      "38 \t167   \t44.6933\t5.91489 \t24 \t48 \n",
      "39 \t186   \t44.2933\t6.04764 \t24 \t48 \n",
      "40 \t191   \t43.5667\t7.15674 \t16 \t48 \n"
     ]
    }
   ],
   "source": [
    "import random\n",
    "import operator\n",
    "\n",
    "import numpy\n",
    "\n",
    "from deap import algorithms\n",
    "from deap import base\n",
    "from deap import creator\n",
    "from deap import tools\n",
    "from deap import gp\n",
    "\n",
    "# Initialize Parity problem input and output matrices\n",
    "PARITY_FANIN_M = 6\n",
    "PARITY_SIZE_M = 2**PARITY_FANIN_M\n",
    "\n",
    "inputs = [None] * PARITY_SIZE_M\n",
    "outputs = [None] * PARITY_SIZE_M\n",
    "\n",
    "for i in range(PARITY_SIZE_M):\n",
    "    inputs[i] = [None] * PARITY_FANIN_M\n",
    "    value = i\n",
    "    divisor = PARITY_SIZE_M\n",
    "    parity = 1\n",
    "    for j in range(PARITY_FANIN_M):\n",
    "        divisor /= 2\n",
    "        if value >= divisor:\n",
    "            inputs[i][j] = 1\n",
    "            parity = int(not parity)\n",
    "            value -= divisor\n",
    "        else:\n",
    "            inputs[i][j] = 0\n",
    "    outputs[i] = parity\n",
    "\n",
    "pset = gp.PrimitiveSet(\"MAIN\", PARITY_FANIN_M, \"IN\")\n",
    "pset.addPrimitive(operator.and_, 2)\n",
    "pset.addPrimitive(operator.or_, 2)\n",
    "pset.addPrimitive(operator.xor, 2)\n",
    "pset.addPrimitive(operator.not_, 1)\n",
    "pset.addTerminal(1)\n",
    "pset.addTerminal(0)\n",
    "\n",
    "creator.create(\"FitnessMax\", base.Fitness, weights=(1.0,))\n",
    "creator.create(\"Individual\", gp.PrimitiveTree, fitness=creator.FitnessMax)\n",
    "\n",
    "toolbox = base.Toolbox()\n",
    "toolbox.register(\"expr\", gp.genFull, pset=pset, min_=3, max_=5)\n",
    "toolbox.register(\"individual\", tools.initIterate, creator.Individual, toolbox.expr)\n",
    "toolbox.register(\"population\", tools.initRepeat, list, toolbox.individual)\n",
    "toolbox.register(\"compile\", gp.compile, pset=pset)\n",
    "\n",
    "def evalParity(individual):\n",
    "    func = toolbox.compile(expr=individual)\n",
    "    return sum(func(*in_) == out for in_, out in zip(inputs, outputs)),\n",
    "\n",
    "toolbox.register(\"evaluate\", evalParity)\n",
    "toolbox.register(\"select\", tools.selTournament, tournsize=3)\n",
    "toolbox.register(\"mate\", gp.cxOnePoint)\n",
    "toolbox.register(\"expr_mut\", gp.genGrow, min_=0, max_=2)\n",
    "toolbox.register(\"mutate\", gp.mutUniform, expr=toolbox.expr_mut, pset=pset)\n",
    "\n",
    "def main():\n",
    "    random.seed(21)\n",
    "    pop = toolbox.population(n=300)\n",
    "    hof = tools.HallOfFame(1)\n",
    "    stats = tools.Statistics(lambda ind: ind.fitness.values)\n",
    "    stats.register(\"avg\", numpy.mean)\n",
    "    stats.register(\"std\", numpy.std)\n",
    "    stats.register(\"min\", numpy.min)\n",
    "    stats.register(\"max\", numpy.max)\n",
    "\n",
    "    algorithms.eaSimple(pop, toolbox, 0.5, 0.2, 40, stats, halloffame=hof)\n",
    "\n",
    "    return pop, stats, hof\n",
    "\n",
    "if __name__ == \"__main__\":\n",
    "    pop, stats, hof = main()"
   ]
  },
  {
   "cell_type": "code",
   "execution_count": 9,
   "metadata": {},
   "outputs": [
    {
     "ename": "TypeError",
     "evalue": "'Statistics' object is not callable",
     "output_type": "error",
     "traceback": [
      "\u001b[0;31m---------------------------------------------------------------------------\u001b[0m",
      "\u001b[0;31mTypeError\u001b[0m                                 Traceback (most recent call last)",
      "Cell \u001b[0;32mIn[9], line 2\u001b[0m\n\u001b[1;32m      1\u001b[0m \u001b[38;5;28;01mimport\u001b[39;00m \u001b[38;5;21;01mmatplotlib\u001b[39;00m\u001b[38;5;21;01m.\u001b[39;00m\u001b[38;5;21;01mpyplot\u001b[39;00m \u001b[38;5;28;01mas\u001b[39;00m \u001b[38;5;21;01mplt\u001b[39;00m\n\u001b[0;32m----> 2\u001b[0m gen \u001b[38;5;241m=\u001b[39m \u001b[43mstats\u001b[49m\u001b[43m(\u001b[49m\u001b[38;5;124;43m\"\u001b[39;49m\u001b[38;5;124;43mgen\u001b[39;49m\u001b[38;5;124;43m\"\u001b[39;49m\u001b[43m)\u001b[49m\n\u001b[1;32m      3\u001b[0m fit_mins \u001b[38;5;241m=\u001b[39m stats(\u001b[38;5;124m\"\u001b[39m\u001b[38;5;124mmin\u001b[39m\u001b[38;5;124m\"\u001b[39m)\n\u001b[1;32m      4\u001b[0m fit_avgs \u001b[38;5;241m=\u001b[39m stats(\u001b[38;5;124m\"\u001b[39m\u001b[38;5;124mavg\u001b[39m\u001b[38;5;124m\"\u001b[39m)\n",
      "\u001b[0;31mTypeError\u001b[0m: 'Statistics' object is not callable"
     ]
    }
   ],
   "source": [
    "\n",
    "import matplotlib.pyplot as plt\n",
    "gen = logbook.select(\"gen\")\n",
    "fit_mins = logbook.select(\"min\")\n",
    "fit_avgs = logbook.select(\"avg\")\n",
    "fit_maxs = logbook.select(\"max\")\n"
   ]
  },
  {
   "cell_type": "code",
   "execution_count": 11,
   "metadata": {},
   "outputs": [
    {
     "ename": "AttributeError",
     "evalue": "'Statistics' object has no attribute 'keys'",
     "output_type": "error",
     "traceback": [
      "\u001b[0;31m---------------------------------------------------------------------------\u001b[0m",
      "\u001b[0;31mAttributeError\u001b[0m                            Traceback (most recent call last)",
      "Cell \u001b[0;32mIn[11], line 1\u001b[0m\n\u001b[0;32m----> 1\u001b[0m \u001b[43mstats\u001b[49m\u001b[38;5;241;43m.\u001b[39;49m\u001b[43mkeys\u001b[49m()\n",
      "\u001b[0;31mAttributeError\u001b[0m: 'Statistics' object has no attribute 'keys'"
     ]
    }
   ],
   "source": [
    "stats.keys()"
   ]
  },
  {
   "cell_type": "code",
   "execution_count": null,
   "metadata": {},
   "outputs": [],
   "source": []
  }
 ],
 "metadata": {
  "kernelspec": {
   "display_name": "m_evolutivo",
   "language": "python",
   "name": "python3"
  },
  "language_info": {
   "codemirror_mode": {
    "name": "ipython",
    "version": 3
   },
   "file_extension": ".py",
   "mimetype": "text/x-python",
   "name": "python",
   "nbconvert_exporter": "python",
   "pygments_lexer": "ipython3",
   "version": "3.12.2"
  }
 },
 "nbformat": 4,
 "nbformat_minor": 2
}
